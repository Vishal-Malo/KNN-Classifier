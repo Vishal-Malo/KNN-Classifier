{
 "cells": [
  {
   "cell_type": "markdown",
   "metadata": {
    "colab_type": "text",
    "id": "BjXA4pctzevR"
   },
   "source": [
    "# **Calculate Time Complexity of KNN**"
   ]
  },
  {
   "cell_type": "markdown",
   "metadata": {},
   "source": [
    "The constructor consists of:-\n",
    " - self.k = k                   -->   $c_{1}$\n",
    " - self.weights = weights       -->   $c_{2}$\n",
    " - self.result = []             -->   $c_{3}$\n",
    " - self.result_w = []           -->   $c_{4}$\n",
    " \n",
    "Time taken in the constructor is $c_{1}$ + $c_{2}$ + $c_{3}$ + $c_{4}$ = $C_{1}$\n",
    "\n",
    "The next method i.e., fit(...) consists of:-\n",
    " - self.x_train = x_train       -->   $c_{1}$\n",
    " - self.y_train = y_train       -->   $c_{2}$\n",
    " - print(\"Training done!\")      -->   $c_{3}$\n",
    "\n",
    "Time taken = $c_{1}$ + $c_{2}$ + $c_{3}$ = $C_{2}$\n",
    "\n",
    "predict(...) consists of:-\n",
    " - for j in x_test:                                                           -->   $c_{1}$\n",
    " -     distance = {}                                                          -->   n $\\times$ $c_{2}$\n",
    " -     distance_w = {}                                                        -->   n $\\times$ $c_{3}$\n",
    " -     counter = 0                                                            -->   n $\\times$ $c_{4}$\n",
    " -     for i in self.x_train:                                                 -->   n $\\times$ $c_{5}$\n",
    " -         sum = 0                                                            -->   $n^{2}$ $\\times$ $c_{6}$\n",
    " -         for k in range(len(j)):                                            -->   $n^{2}$ $\\times$ $c_{7}$\n",
    " -             sum += (j[k] - i[k]) ** 2                                      -->   m $\\times$ $n^{2}$ $\\times$ $c_{8}$  [Here, m represents the number of dimensions of X_test]\n",
    " -         if self.weights == \"uniform\":                                      -->   $n^{2}$ $\\times$ $c_{9}$\n",
    " -             distance[counter] = sum ** 1 / 2                               -->   $n^{2}$ $\\times$ $c_{10}$\n",
    " -         elif self.weights == \"distance\":                                   -->   $n^{2}$ $\\times$ $c_{11}$\n",
    " -             distance_w[counter] = 1 / (sum ** 1 / 2)                       -->   $n^{2}$ $\\times$ $c_{12}$\n",
    " -         counter += 1                                                       -->   $n^{2}$ $\\times$ $c_{13}$\n",
    " -     if self.weights == \"uniform\":                                          -->   n $\\times$ $c_{14}$ \n",
    " -         distance = sorted(distance.items(), key=operator.itemgetter(1))    -->   n $\\times$ $c_{15}$\n",
    " -         self.result.append(self.classify(distance[:self.k]))               -->   n $\\times$ $c_{16}$\n",
    " -         del distance                                                       -->   n $\\times$ $c_{17}$\n",
    " -     elif self.weights == \"distance\":                                       -->   n $\\times$ $c_{18}$\n",
    " -         distance_w = sorted(distance_w.items(), key=operator.itemgetter(1), reverse=True)   -->   n $\\times$ $c_{19}$\n",
    " -         self.result_w.append(self.classify2(distance_w[:self.k]))          -->   n $\\times$ $c_{20}$\n",
    " -         del distance_w                                                     -->   n $\\times$ $c_{21}$\n",
    " - if self.weights == \"uniform\":                                              -->   $c_{22}$\n",
    " -     return self.result                                                     -->   $c_{23}$\n",
    " - elif self.weights == \"distance\":                                           -->   $c_{24}$\n",
    " -     return self.result_w                                                   -->   $c_{25}$\n",
    " \n",
    "Time taken = $c_{1}$ + n $\\times$ $c_{2}$ + n $\\times$ $c_{3}$ + n $\\times$ $c_{4}$ + n $\\times$ $c_{5}$ + $n^{2}$ $\\times$ $c_{6}$ + $n^{2}$ $\\times$ $c_{7}$ + m $\\times$ $n^{2}$ $\\times$ $c_{8}$ + $n^{2}$ $\\times$ $c_{9}$ + $n^{2}$ $\\times$ $c_{10}$ + $n^{2}$ $\\times$ $c_{11}$ + $n^{2}$ $\\times$ $c_{12}$ + $n^{2}$ $\\times$ $c_{13}$ + n $\\times$ $c_{14}$ + n $\\times$ $c_{15}$ + n $\\times$ $c_{16}$ + n $\\times$ $c_{17}$ + n $\\times$ $c_{18}$ + n $\\times$ $c_{19}$ + n $\\times$ $c_{20}$ + n $\\times$ $c_{21}$ + $c_{22}$ + $c_{23}$ + $c_{24}$ + $c_{25}$ = $C_{3}$ + 12n$C_{4}$ + 7$n^{2}$$C_{5}$ + m$n^{2}$$C_{6}$\n",
    " \n",
    "classify(...) consists of:-\n",
    " - lable = []                                  -->   $c_{1}$\n",
    " - for i in distance:                          -->   $c_{2}$\n",
    " -     lable.append(self.y_train[i[0]])        -->   n $\\times$ $c_{2}$  [Since, this loop runs for k times and k <= n]\n",
    " - return Counter(lable).most_common()[0][0]   -->   $c_{4}$\n",
    " \n",
    "Time taken = $c_{1}$ + $c_{2}$ + n $\\times$ $c_{3}$ + $c_{4}$ = $C_{7}$ + n$C_{8}$\n",
    "\n",
    "classify2(...) consists of:-\n",
    " - y = np.unique(self.y_train)              -->   $c_{1}$\n",
    " - y_sum = [None]*len(y)                    -->   $c_{2}$\n",
    " - for j in range(len(y)):                  -->   $c_{3}$\n",
    " -     sum = 0                              -->   n $\\times$ $c_{4}$        [Since, this loop runs for the number of test categories which is <= n]\n",
    " -     for i in distance:                   -->   n $\\times$ $c_{5}$\n",
    " -         if y[j] == self.y_train[i[0]]:   -->   $n^{2}$ $\\times$ $c_{6}$  [Since, this inner loop also runs for k times and k<=n and hence $n^{2}$]\n",
    " -             sum += i[1]                  -->   $n^{2}$ $\\times$ $c_{7}$\n",
    " -     y_sum[j] = sum                       -->   n $\\times$ $c_{8}$\n",
    " -  return y[y_sum.index(max(y_sum))]       -->   $c_{9}$\n",
    "\n",
    "Time taken = $c_{1}$ + $c_{2}$ + $c_{3}$ + n $\\times$ $c_{4}$ + n $\\times$ $c_{5}$ + $n^{2}$ $\\times$ $c_{6}$ + $n^{2}$ $\\times$ $c_{7}$ + n $\\times$ $c_{8}$ + $c_{9}$ = $C_{9}$ + 3n$C_{10}$ + 2$n^{2}$$C_{11}$\n",
    "\n",
    "Total Time taken = $C_{1}$ + $C_{2}$ + $C_{3}$ + 12n$C_{4}$ + 7$n^{2}$$C_{5}$ + m$n^{2}$$C_{6}$ + n($C_{7}$ + n$C_{8}$) + n($C_{9}$ + 3n$C_{10}$ + 2$n^{2}$$C_{11}$) = $C_{12}$ + 14n$C_{13}$ + 11$n^{2}$$C_{14}$ + 2$n^{3}$$C_{15}$ + m$n^{2}$$C_{16}$ = 2$n^{3}$$C_{15}$ + m$n^{2}$$C_{16}$  [Since, the methods classify(...) and classify2(...) had been called n times]\n",
    "\n",
    "Therefore, the Time Complexity of the algorithm is  = O(2$n^{3}$ + m$n^{2}$) = O($n^{3}$ + m $\\times$ $n^{2}$)"
   ]
  },
  {
   "cell_type": "markdown",
   "metadata": {
    "colab_type": "text",
    "id": "PuzkouEazy7c"
   },
   "source": [
    "## **Calculate Space Complexity of KNN**"
   ]
  },
  {
   "cell_type": "markdown",
   "metadata": {},
   "source": [
    "The constructor consists of:-\n",
    " - self.k = k\n",
    " - self.weights = weights\n",
    " - self.result = []\n",
    " - self.result_w = []\n",
    " \n",
    "Here, 6 memory locations are created, so it requires 6 units.\n",
    "\n",
    "The next method i.e., fit(...) consists of:-\n",
    " - self.x_train = x_train\n",
    " - self.y_train = y_train\n",
    " - print(\"Training done!\")\n",
    " \n",
    "Here, 4 memory locations are created, so it requires 4 units.\n",
    "\n",
    "predict(...) consists of:-\n",
    " - for j in x_test:                                                           \n",
    " -     distance = {}                                                          \n",
    " -     distance_w = {}                                                        \n",
    " -     counter = 0                                                            \n",
    " -     for i in self.x_train:                                                 \n",
    " -         sum = 0\n",
    " -         for k in range(len(j)):                                         \n",
    " -             sum += (j[k] - i[k]) ** 2                                    \n",
    " -         if self.weights == \"uniform\":                                     \n",
    " -             distance[counter] = sum ** 1 / 2                             \n",
    " -         elif self.weights == \"distance\":                                   \n",
    " -             distance_w[counter] = 1 / (sum ** 1 / 2)                       \n",
    " -         counter += 1                                                       \n",
    " -     if self.weights == \"uniform\":                                          \n",
    " -         distance = sorted(distance.items(), key=operator.itemgetter(1))    \n",
    " -         self.result.append(self.classify(distance[:self.k]))               \n",
    " -         del distance                                                       \n",
    " -     elif self.weights == \"distance\":                                       \n",
    " -         distance_w = sorted(distance_w.items(), key=operator.itemgetter(1), reverse=True) \n",
    " -         self.result_w.append(self.classify2(distance_w[:self.k]))\n",
    " -         del distance_w                                                    \n",
    " - if self.weights == \"uniform\":                                            \n",
    " -     return self.result                                                \n",
    " - elif self.weights == \"distance\":                                        \n",
    " -     return self.result_w                                               \n",
    " \n",
    "Here, 2 + n(n(m + 1 + 1) + (2 - 1)) = 2 + m$n^{2}$ + 2$n^{2}$ + n memory locations are created.\n",
    " \n",
    "classify(...) consists of:-\n",
    " - lable = []                                  \n",
    " - for i in distance:                         \n",
    " -     lable.append(self.y_train[i[0]])       \n",
    " - return Counter(lable).most_common()[0][0]\n",
    " \n",
    "Here, 1 + n memory locations are created as the variable lable stores k number of values which is <= n.\n",
    "\n",
    "classify2(...) consists of:-\n",
    " - y = np.unique(self.y_train)             \n",
    " - y_sum = [None]*len(y)                   \n",
    " - for j in range(len(y)):                 \n",
    " -     sum = 0\n",
    " -     for i in distance:                  \n",
    " -         if y[j] == self.y_train[i[0]]:  \n",
    " -             sum += i[1]                 \n",
    " -     y_sum[j] = sum                     \n",
    " -  return y[y_sum.index(max(y_sum))]    \n",
    "\n",
    "Here, 2 + n + $n^{2}$ memory locations are created, n memory locations as y_sum stores a total of number of categorical values which is <= n and $n^{2}$ locations for the variable sum.\n",
    "\n",
    "Total Space taken = 6 + 4 + (2 + m$n^{2}$ + 2$n^{2}$ + n) + (1 + n) + (2 + n + $n^{2}$) = 15 + (3 + m)$n^{2}$ + 3n\n",
    "\n",
    "Therefore, the Space Complexity of the algorithm is  = O((3 + m) $\\times$ $n^{2}$) = O(m $\\times$ $n^{2}$)"
   ]
  },
  {
   "cell_type": "markdown",
   "metadata": {
    "colab_type": "text",
    "id": "4hTeRCCW0GX-"
   },
   "source": [
    "## **What are the limitations of KNN Algorithm**"
   ]
  },
  {
   "cell_type": "markdown",
   "metadata": {
    "colab": {},
    "colab_type": "code",
    "id": "PbE9DUyH0E3j"
   },
   "source": [
    "KNN Algorithm is a lazy learner,that is it roughly or does not learn anything during the training stage. To predict the label of a new instance the KNN algorithm will find the K closest neighbors to the new instance from the training data, the predicted class label will then be set as the most common label among the K closest neighboring points. The main disadvantage of this approach is that the algorithm must compute the distance and sort all the training data at each prediction, which can be slow if there are a large number of training examples."
   ]
  },
  {
   "cell_type": "markdown",
   "metadata": {
    "colab_type": "text",
    "id": "mxU581zuuucw"
   },
   "source": []
  }
 ],
 "metadata": {
  "colab": {
   "collapsed_sections": [],
   "name": "KNN-Assignment-3.ipynb",
   "provenance": []
  },
  "kernelspec": {
   "display_name": "Python 3",
   "language": "python",
   "name": "python3"
  },
  "language_info": {
   "codemirror_mode": {
    "name": "ipython",
    "version": 3
   },
   "file_extension": ".py",
   "mimetype": "text/x-python",
   "name": "python",
   "nbconvert_exporter": "python",
   "pygments_lexer": "ipython3",
   "version": "3.7.1"
  }
 },
 "nbformat": 4,
 "nbformat_minor": 1
}
